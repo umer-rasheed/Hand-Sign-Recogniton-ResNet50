{
 "cells": [
  {
   "cell_type": "markdown",
   "metadata": {},
   "source": [
    "### Sign Recognition via CNN"
   ]
  },
  {
   "cell_type": "markdown",
   "metadata": {},
   "source": [
    "#### Import Modules"
   ]
  },
  {
   "cell_type": "code",
   "execution_count": 9,
   "metadata": {},
   "outputs": [
    {
     "name": "stdout",
     "output_type": "stream",
     "text": [
      "Import Modules\n"
     ]
    }
   ],
   "source": [
    "# IMPORT MODULES\n",
    "# Import Numpy, TensorFlow, Scipy\n",
    "import math\n",
    "import numpy as np\n",
    "import random\n",
    "import h5py\n",
    "import matplotlib.pyplot as plt\n",
    "import scipy\n",
    "from PIL import Image\n",
    "from sklearn.utils import shuffle\n",
    "from scipy import ndimage\n",
    "import tensorflow as tf\n",
    "from tensorflow.python.framework import ops\n",
    "from tensorflow.contrib.layers import flatten\n",
    "from cnn_utils import *\n",
    "%matplotlib inline\n",
    "\n",
    "# Print\n",
    "print(\"Import Modules\")"
   ]
  },
  {
   "cell_type": "markdown",
   "metadata": {},
   "source": [
    "#### Load Data"
   ]
  },
  {
   "cell_type": "code",
   "execution_count": 10,
   "metadata": {},
   "outputs": [],
   "source": [
    "# LOAD DATA\n",
    "# Load Training and Test Hand Sign Data \n",
    "XTrain,YTrain,XTest,YTest,Classes=load_dataset()"
   ]
  },
  {
   "cell_type": "code",
   "execution_count": 11,
   "metadata": {},
   "outputs": [
    {
     "name": "stdout",
     "output_type": "stream",
     "text": [
      "3\n"
     ]
    },
    {
     "data": {
      "image/png": "[encoded data removed]",
      "text/plain": [
       "<matplotlib.figure.Figure at 0x7f985dd8e278>"
      ]
     },
     "metadata": {},
     "output_type": "display_data"
    }
   ],
   "source": [
    "# LOAD DATA\n",
    "# Plot Random Image\n",
    "Index=random.randint(0,len(XTrain))\n",
    "SampleImage=XTrain[Index]\n",
    "SampleLabel=np.squeeze(YTrain[:,Index])\n",
    "plt.figure(figsize=(3,3))\n",
    "plt.axis('off')\n",
    "plt.imshow(SampleImage)\n",
    "print(SampleLabel)"
   ]
  },
  {
   "cell_type": "code",
   "execution_count": 12,
   "metadata": {},
   "outputs": [
    {
     "name": "stdout",
     "output_type": "stream",
     "text": [
      "Training Set:1080 Samples\n",
      "Image Shape:(64, 64, 3)\n",
      "Number of Classes: {0: 180, 1: 180, 2: 180, 3: 180, 4: 180, 5: 180}\n"
     ]
    }
   ],
   "source": [
    "# LOAD DATA\n",
    "# Print Data Characteristics\n",
    "print(\"Training Set:{} Samples\".format(len(XTrain)))\n",
    "print(\"Image Shape:{}\".format(XTrain[0].shape))\n",
    "print('Number of Classes: {}'.format(dict(zip(*np.unique(YTrain,return_counts=True)))))"
   ]
  },
  {
   "cell_type": "markdown",
   "metadata": {},
   "source": [
    "#### Data Preprocessing"
   ]
  },
  {
   "cell_type": "code",
   "execution_count": 13,
   "metadata": {},
   "outputs": [
    {
     "name": "stdout",
     "output_type": "stream",
     "text": [
      "Number of Training Examples = 1080\n",
      "Number of Test Examples = 120\n",
      "XTrain shape: (1080, 64, 64, 3)\n",
      "YTrain shape: (1080, 6)\n",
      "XTest shape: (120, 64, 64, 3)\n",
      "YTest shape: (120, 6)\n"
     ]
    }
   ],
   "source": [
    "# DATA PREPROCESSING\n",
    "# Scale the Image Data from 0 to 1 and Use One-Hot Key Encoding for Labels\n",
    "XTrain=XTrain/255.\n",
    "XTest=XTest/255.\n",
    "YTrain=convert_to_one_hot(YTrain,6).T\n",
    "YTest=convert_to_one_hot(YTest,6).T\n",
    "print (\"Number of Training Examples = \" + str(XTrain.shape[0]))\n",
    "print (\"Number of Test Examples = \" + str(XTest.shape[0]))\n",
    "print (\"XTrain shape: \" + str(XTrain.shape))\n",
    "print (\"YTrain shape: \" + str(YTrain.shape))\n",
    "print (\"XTest shape: \" + str(XTest.shape))\n",
    "print (\"YTest shape: \" + str(YTest.shape))"
   ]
  },
  {
   "cell_type": "markdown",
   "metadata": {},
   "source": [
    "#### Model Architecture"
   ]
  },
  {
   "cell_type": "code",
   "execution_count": 22,
   "metadata": {
    "collapsed": true
   },
   "outputs": [],
   "source": [
    "# DEFINE ARCHITECTURE\n",
    "# Set Epochs and Batch Size\n",
    "Epochs=150\n",
    "BatchSize=128"
   ]
  },
  {
   "cell_type": "code",
   "execution_count": 15,
   "metadata": {
    "collapsed": true
   },
   "outputs": [],
   "source": [
    "# DEFINE ARCHITECTURE\n",
    "def Model(X):\n",
    "    # Initialize Parameters\n",
    "    W1=tf.get_variable('W1',[4,4,3,8],initializer=tf.contrib.layers.xavier_initializer(seed=0))\n",
    "    W2=tf.get_variable('W2',[2,2,8,16],initializer=tf.contrib.layers.xavier_initializer(seed=0))   \n",
    "    \n",
    "    # Convolution Layer, Stride of 1, Padding 'SAME'\n",
    "    Z1=tf.nn.conv2d(X,W1,strides=[1,1,1,1],padding='SAME')\n",
    "    \n",
    "    # RELU\n",
    "    A1=tf.nn.relu(Z1)\n",
    "    \n",
    "    # MaxPool: Window 8x8, Stride 8, Padding 'SAME'\n",
    "    P1=tf.nn.max_pool(A1,[1,8,8,1],strides=[1,8,8,1],padding='SAME')\n",
    "    \n",
    "    # CONV2D: filters W2, stride 1, padding 'SAME'\n",
    "    Z2=tf.nn.conv2d(P1,W2,strides=[1,1,1,1],padding='SAME')\n",
    "    \n",
    "    # RELU\n",
    "    A2=tf.nn.relu(Z2)\n",
    "    \n",
    "    # MaxPool: Window 4x4, Stride 4, Padding 'SAME'\n",
    "    P2=tf.nn.max_pool(A2,[1,4,4,1],strides=[1,4,4,1],padding='SAME')\n",
    "    \n",
    "    # Flatten\n",
    "    P2=tf.contrib.layers.flatten(P2)\n",
    "    \n",
    "    # Fully Connection Layer without non-linear activation function\n",
    "    Logits=tf.contrib.layers.fully_connected(P2,6,activation_fn=None)\n",
    "    \n",
    "    # Return Logits\n",
    "    return Logits"
   ]
  },
  {
   "cell_type": "markdown",
   "metadata": {},
   "source": [
    "#### Train, Validate and Test the Model"
   ]
  },
  {
   "cell_type": "code",
   "execution_count": 16,
   "metadata": {},
   "outputs": [
    {
     "name": "stdout",
     "output_type": "stream",
     "text": [
      "Setting Placeholder\n",
      "Setting Training Pipeline\n"
     ]
    }
   ],
   "source": [
    "# PERFORM TRAINING\n",
    "# Set Placeholder\n",
    "X=tf.placeholder(tf.float32,shape=[None,64,64,3])\n",
    "Y=tf.placeholder(tf.float32,shape=[None,6])\n",
    "\n",
    "print(\"Setting Placeholder\")\n",
    "\n",
    "# Set Training Pipeline\n",
    "Rate=0.005\n",
    "Logits=Model(X)\n",
    "CrossEntropy=tf.nn.softmax_cross_entropy_with_logits(logits=Logits,labels=Y)\n",
    "LossOperation=tf.reduce_mean(CrossEntropy)\n",
    "Optimizer=tf.train.AdamOptimizer(learning_rate=Rate)\n",
    "TrainingOperation=Optimizer.minimize(LossOperation)\n",
    "\n",
    "print(\"Setting Training Pipeline\")"
   ]
  },
  {
   "cell_type": "code",
   "execution_count": 18,
   "metadata": {
    "collapsed": true
   },
   "outputs": [],
   "source": [
    "# MODEL EVALUATION\n",
    "# Initialize Evaluation\n",
    "CorrectPrediction=tf.equal(tf.argmax(Logits,1),tf.argmax(Y,1))\n",
    "AccuracyOperation=tf.reduce_mean(tf.cast(CorrectPrediction,tf.float32))\n",
    "Saver=tf.train.Saver()\n",
    "\n",
    "# Define Evaluation \n",
    "def Evaluate(XData,YData):\n",
    "    NumExamples=len(XData)\n",
    "    TotalAccuracy=0\n",
    "    Sess=tf.get_default_session()\n",
    "    for Offset in range(0,NumExamples,BatchSize):\n",
    "        BatchX,BatchY=XData[Offset:Offset+BatchSize],YData[Offset:Offset+BatchSize]\n",
    "        Accuracy=Sess.run(AccuracyOperation,feed_dict={X:BatchX,Y:BatchY})\n",
    "        TotalAccuracy+=(Accuracy*len(BatchX))\n",
    "    return TotalAccuracy/NumExamples"
   ]
  },
  {
   "cell_type": "code",
   "execution_count": 23,
   "metadata": {},
   "outputs": [
    {
     "name": "stdout",
     "output_type": "stream",
     "text": [
      "Training...\n",
      "Epoch 1 ...\n",
      "Training Accuracy=0.185\n",
      "Epoch 2 ...\n",
      "Training Accuracy=0.167\n",
      "Epoch 3 ...\n",
      "Training Accuracy=0.170\n",
      "Epoch 4 ...\n",
      "Training Accuracy=0.221\n",
      "Epoch 5 ...\n",
      "Training Accuracy=0.225\n",
      "Epoch 6 ...\n",
      "Training Accuracy=0.231\n",
      "Epoch 7 ...\n",
      "Training Accuracy=0.272\n",
      "Epoch 8 ...\n",
      "Training Accuracy=0.251\n",
      "Epoch 9 ...\n",
      "Training Accuracy=0.319\n",
      "Epoch 10 ...\n",
      "Training Accuracy=0.368\n",
      "Epoch 11 ...\n",
      "Training Accuracy=0.481\n",
      "Epoch 12 ...\n",
      "Training Accuracy=0.593\n",
      "Epoch 13 ...\n",
      "Training Accuracy=0.531\n",
      "Epoch 14 ...\n",
      "Training Accuracy=0.585\n",
      "Epoch 15 ...\n",
      "Training Accuracy=0.600\n",
      "Epoch 16 ...\n",
      "Training Accuracy=0.640\n",
      "Epoch 17 ...\n",
      "Training Accuracy=0.654\n",
      "Epoch 18 ...\n",
      "Training Accuracy=0.674\n",
      "Epoch 19 ...\n",
      "Training Accuracy=0.685\n",
      "Epoch 20 ...\n",
      "Training Accuracy=0.694\n",
      "Epoch 21 ...\n",
      "Training Accuracy=0.703\n",
      "Epoch 22 ...\n",
      "Training Accuracy=0.710\n",
      "Epoch 23 ...\n",
      "Training Accuracy=0.722\n",
      "Epoch 24 ...\n",
      "Training Accuracy=0.736\n",
      "Epoch 25 ...\n",
      "Training Accuracy=0.745\n",
      "Epoch 26 ...\n",
      "Training Accuracy=0.755\n",
      "Epoch 27 ...\n",
      "Training Accuracy=0.767\n",
      "Epoch 28 ...\n",
      "Training Accuracy=0.779\n",
      "Epoch 29 ...\n",
      "Training Accuracy=0.784\n",
      "Epoch 30 ...\n",
      "Training Accuracy=0.788\n",
      "Epoch 31 ...\n",
      "Training Accuracy=0.794\n",
      "Epoch 32 ...\n",
      "Training Accuracy=0.803\n",
      "Epoch 33 ...\n",
      "Training Accuracy=0.807\n",
      "Epoch 34 ...\n",
      "Training Accuracy=0.814\n",
      "Epoch 35 ...\n",
      "Training Accuracy=0.822\n",
      "Epoch 36 ...\n",
      "Training Accuracy=0.822\n",
      "Epoch 37 ...\n",
      "Training Accuracy=0.826\n",
      "Epoch 38 ...\n",
      "Training Accuracy=0.832\n",
      "Epoch 39 ...\n",
      "Training Accuracy=0.841\n",
      "Epoch 40 ...\n",
      "Training Accuracy=0.841\n",
      "Epoch 41 ...\n",
      "Training Accuracy=0.843\n",
      "Epoch 42 ...\n",
      "Training Accuracy=0.843\n",
      "Epoch 43 ...\n",
      "Training Accuracy=0.842\n",
      "Epoch 44 ...\n",
      "Training Accuracy=0.839\n",
      "Epoch 45 ...\n",
      "Training Accuracy=0.837\n",
      "Epoch 46 ...\n",
      "Training Accuracy=0.841\n",
      "Epoch 47 ...\n",
      "Training Accuracy=0.839\n",
      "Epoch 48 ...\n",
      "Training Accuracy=0.843\n",
      "Epoch 49 ...\n",
      "Training Accuracy=0.856\n",
      "Epoch 50 ...\n",
      "Training Accuracy=0.856\n",
      "Epoch 51 ...\n",
      "Training Accuracy=0.862\n",
      "Epoch 52 ...\n",
      "Training Accuracy=0.864\n",
      "Epoch 53 ...\n",
      "Training Accuracy=0.864\n",
      "Epoch 54 ...\n",
      "Training Accuracy=0.869\n",
      "Epoch 55 ...\n",
      "Training Accuracy=0.871\n",
      "Epoch 56 ...\n",
      "Training Accuracy=0.873\n",
      "Epoch 57 ...\n",
      "Training Accuracy=0.871\n",
      "Epoch 58 ...\n",
      "Training Accuracy=0.874\n",
      "Epoch 59 ...\n",
      "Training Accuracy=0.876\n",
      "Epoch 60 ...\n",
      "Training Accuracy=0.877\n",
      "Epoch 61 ...\n",
      "Training Accuracy=0.880\n",
      "Epoch 62 ...\n",
      "Training Accuracy=0.879\n",
      "Epoch 63 ...\n",
      "Training Accuracy=0.881\n",
      "Epoch 64 ...\n",
      "Training Accuracy=0.876\n",
      "Epoch 65 ...\n",
      "Training Accuracy=0.879\n",
      "Epoch 66 ...\n",
      "Training Accuracy=0.878\n",
      "Epoch 67 ...\n",
      "Training Accuracy=0.881\n",
      "Epoch 68 ...\n",
      "Training Accuracy=0.881\n",
      "Epoch 69 ...\n",
      "Training Accuracy=0.883\n",
      "Epoch 70 ...\n",
      "Training Accuracy=0.887\n",
      "Epoch 71 ...\n",
      "Training Accuracy=0.885\n",
      "Epoch 72 ...\n",
      "Training Accuracy=0.890\n",
      "Epoch 73 ...\n",
      "Training Accuracy=0.888\n",
      "Epoch 74 ...\n",
      "Training Accuracy=0.889\n",
      "Epoch 75 ...\n",
      "Training Accuracy=0.891\n",
      "Epoch 76 ...\n",
      "Training Accuracy=0.891\n",
      "Epoch 77 ...\n",
      "Training Accuracy=0.894\n",
      "Epoch 78 ...\n",
      "Training Accuracy=0.893\n",
      "Epoch 79 ...\n",
      "Training Accuracy=0.897\n",
      "Epoch 80 ...\n",
      "Training Accuracy=0.902\n",
      "Epoch 81 ...\n",
      "Training Accuracy=0.899\n",
      "Epoch 82 ...\n",
      "Training Accuracy=0.903\n",
      "Epoch 83 ...\n",
      "Training Accuracy=0.905\n",
      "Epoch 84 ...\n",
      "Training Accuracy=0.905\n",
      "Epoch 85 ...\n",
      "Training Accuracy=0.908\n",
      "Epoch 86 ...\n",
      "Training Accuracy=0.913\n",
      "Epoch 87 ...\n",
      "Training Accuracy=0.910\n",
      "Epoch 88 ...\n",
      "Training Accuracy=0.915\n",
      "Epoch 89 ...\n",
      "Training Accuracy=0.919\n",
      "Epoch 90 ...\n",
      "Training Accuracy=0.916\n",
      "Epoch 91 ...\n",
      "Training Accuracy=0.920\n",
      "Epoch 92 ...\n",
      "Training Accuracy=0.919\n",
      "Epoch 93 ...\n",
      "Training Accuracy=0.923\n",
      "Epoch 94 ...\n",
      "Training Accuracy=0.921\n",
      "Epoch 95 ...\n",
      "Training Accuracy=0.922\n",
      "Epoch 96 ...\n",
      "Training Accuracy=0.923\n",
      "Epoch 97 ...\n",
      "Training Accuracy=0.921\n",
      "Epoch 98 ...\n",
      "Training Accuracy=0.923\n",
      "Epoch 99 ...\n",
      "Training Accuracy=0.925\n",
      "Epoch 100 ...\n",
      "Training Accuracy=0.924\n",
      "Epoch 101 ...\n",
      "Training Accuracy=0.923\n",
      "Epoch 102 ...\n",
      "Training Accuracy=0.921\n",
      "Epoch 103 ...\n",
      "Training Accuracy=0.924\n",
      "Epoch 104 ...\n",
      "Training Accuracy=0.922\n",
      "Epoch 105 ...\n",
      "Training Accuracy=0.922\n",
      "Epoch 106 ...\n",
      "Training Accuracy=0.923\n",
      "Epoch 107 ...\n",
      "Training Accuracy=0.920\n",
      "Epoch 108 ...\n",
      "Training Accuracy=0.926\n",
      "Epoch 109 ...\n",
      "Training Accuracy=0.925\n",
      "Epoch 110 ...\n",
      "Training Accuracy=0.929\n",
      "Epoch 111 ...\n",
      "Training Accuracy=0.930\n",
      "Epoch 112 ...\n",
      "Training Accuracy=0.931\n",
      "Epoch 113 ...\n",
      "Training Accuracy=0.931\n",
      "Epoch 114 ...\n",
      "Training Accuracy=0.931\n",
      "Epoch 115 ...\n",
      "Training Accuracy=0.933\n",
      "Epoch 116 ...\n",
      "Training Accuracy=0.937\n",
      "Epoch 117 ...\n",
      "Training Accuracy=0.938\n",
      "Epoch 118 ...\n",
      "Training Accuracy=0.938\n",
      "Epoch 119 ...\n",
      "Training Accuracy=0.939\n",
      "Epoch 120 ...\n",
      "Training Accuracy=0.942\n",
      "Epoch 121 ...\n",
      "Training Accuracy=0.942\n",
      "Epoch 122 ...\n",
      "Training Accuracy=0.944\n",
      "Epoch 123 ...\n",
      "Training Accuracy=0.944\n",
      "Epoch 124 ...\n",
      "Training Accuracy=0.944\n",
      "Epoch 125 ...\n",
      "Training Accuracy=0.944\n",
      "Epoch 126 ...\n",
      "Training Accuracy=0.945\n",
      "Epoch 127 ...\n",
      "Training Accuracy=0.941\n",
      "Epoch 128 ...\n",
      "Training Accuracy=0.936\n",
      "Epoch 129 ...\n",
      "Training Accuracy=0.939\n",
      "Epoch 130 ...\n",
      "Training Accuracy=0.944\n",
      "Epoch 131 ...\n",
      "Training Accuracy=0.948\n",
      "Epoch 132 ...\n",
      "Training Accuracy=0.946\n",
      "Epoch 133 ...\n",
      "Training Accuracy=0.948\n",
      "Epoch 134 ...\n",
      "Training Accuracy=0.944\n",
      "Epoch 135 ...\n",
      "Training Accuracy=0.947\n",
      "Epoch 136 ...\n",
      "Training Accuracy=0.949\n",
      "Epoch 137 ...\n",
      "Training Accuracy=0.951\n",
      "Epoch 138 ...\n",
      "Training Accuracy=0.947\n",
      "Epoch 139 ...\n",
      "Training Accuracy=0.948\n",
      "Epoch 140 ...\n",
      "Training Accuracy=0.953\n",
      "Epoch 141 ...\n",
      "Training Accuracy=0.952\n",
      "Epoch 142 ...\n",
      "Training Accuracy=0.950\n",
      "Epoch 143 ...\n",
      "Training Accuracy=0.954\n",
      "Epoch 144 ...\n",
      "Training Accuracy=0.948\n",
      "Epoch 145 ...\n",
      "Training Accuracy=0.950\n",
      "Epoch 146 ...\n",
      "Training Accuracy=0.947\n",
      "Epoch 147 ...\n",
      "Training Accuracy=0.948\n",
      "Epoch 148 ...\n",
      "Training Accuracy=0.949\n",
      "Epoch 149 ...\n",
      "Training Accuracy=0.944\n",
      "Epoch 150 ...\n",
      "Training Accuracy=0.940\n"
     ]
    },
    {
     "data": {
      "image/png": "[encoded data removed]",
      "text/plain": [
       "<matplotlib.figure.Figure at 0x7f985dbef4a8>"
      ]
     },
     "metadata": {},
     "output_type": "display_data"
    },
    {
     "name": "stdout",
     "output_type": "stream",
     "text": [
      "Model Saved\n"
     ]
    }
   ],
   "source": [
    "# TRAIN AND TEST \n",
    "# Use Session to Test Model\n",
    "with tf.Session() as Sess:\n",
    "    Sess.run(tf.global_variables_initializer())\n",
    "    NumExamples=len(XTrain)\n",
    "    Accuracies=[]\n",
    "    print(\"Training...\")\n",
    "    for i in range(Epochs):\n",
    "        for Offset in range(0,NumExamples,BatchSize):\n",
    "            End=Offset+BatchSize\n",
    "            BatchX,BatchY=XTrain[Offset:End],YTrain[Offset:End]\n",
    "            Sess.run(TrainingOperation,feed_dict={X:BatchX,Y:BatchY})\n",
    "            \n",
    "        # Check Training Accuracy\n",
    "        TrainingAccuracy=Evaluate(XTrain,YTrain)\n",
    "        print(\"Epoch {} ...\".format(i+1))\n",
    "        print(\"Training Accuracy={:.3f}\".format(TrainingAccuracy))\n",
    "        Accuracies.append(TrainingAccuracy)\n",
    "    \n",
    "    # Plot the Training Accuracy\n",
    "    plt.plot(np.squeeze(Accuracies))\n",
    "    plt.ylabel('Training Accuracy')\n",
    "    plt.xlabel('Epochs')\n",
    "    plt.title('Learning Rate=0.005')\n",
    "    plt.show()\n",
    "    \n",
    "    # Save Model    \n",
    "    Saver.save(Sess,'Model')\n",
    "    print(\"Model Saved\")      "
   ]
  },
  {
   "cell_type": "code",
   "execution_count": 25,
   "metadata": {},
   "outputs": [
    {
     "name": "stdout",
     "output_type": "stream",
     "text": [
      "INFO:tensorflow:Restoring parameters from Model\n",
      "Test Accuracy=0.825\n"
     ]
    }
   ],
   "source": [
    "# EVALUATE ON TEST DATA\n",
    "# Run Session to Classify Images on Test Data\n",
    "with tf.Session() as Sess:\n",
    "    Saver.restore(Sess,'Model')\n",
    "    Classify=Sess.run(AccuracyOperation,feed_dict={X:XTest,Y:YTest})\n",
    "    print(\"Test Accuracy={:.3f}\".format(Classify))"
   ]
  },
  {
   "cell_type": "code",
   "execution_count": 27,
   "metadata": {},
   "outputs": [
    {
     "data": {
      "text/plain": [
       "<matplotlib.image.AxesImage at 0x7f985c5ba128>"
      ]
     },
     "execution_count": 27,
     "metadata": {},
     "output_type": "execute_result"
    },
    {
     "data": {
      "image/png": "[encoded data removed]",
      "text/plain": [
       "<matplotlib.figure.Figure at 0x7f985ca6f978>"
      ]
     },
     "metadata": {},
     "output_type": "display_data"
    }
   ],
   "source": [
    "ImageName=\"images/thumbs_up.jpg\"\n",
    "Image=np.array(ndimage.imread(ImageName,flatten=False))\n",
    "Image=scipy.misc.imresize(Image,size=(64,64))\n",
    "plt.imshow(Image)"
   ]
  }
 ],
 "metadata": {
  "coursera": {
   "course_slug": "convolutional-neural-networks",
   "graded_item_id": "bwbJV",
   "launcher_item_id": "0TkXB"
  },
  "kernelspec": {
   "display_name": "Python 3",
   "language": "python",
   "name": "python3"
  },
  "language_info": {
   "codemirror_mode": {
    "name": "ipython",
    "version": 3
   },
   "file_extension": ".py",
   "mimetype": "text/x-python",
   "name": "python",
   "nbconvert_exporter": "python",
   "pygments_lexer": "ipython3",
   "version": "3.6.5"
  }
 },
 "nbformat": 4,
 "nbformat_minor": 1
}
